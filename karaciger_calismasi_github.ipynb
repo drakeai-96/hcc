{
  "nbformat": 4,
  "nbformat_minor": 0,
  "metadata": {
    "colab": {
      "provenance": [],
      "authorship_tag": "ABX9TyM9siAOwDeJBCtWFKy9pHaq",
      "include_colab_link": true
    },
    "kernelspec": {
      "name": "python3",
      "display_name": "Python 3"
    },
    "language_info": {
      "name": "python"
    }
  },
  "cells": [
    {
      "cell_type": "markdown",
      "metadata": {
        "id": "view-in-github",
        "colab_type": "text"
      },
      "source": [
        "<a href=\"https://colab.research.google.com/github/drakeai-96/hcc/blob/main/karaciger_calismasi_github.ipynb\" target=\"_parent\"><img src=\"https://colab.research.google.com/assets/colab-badge.svg\" alt=\"Open In Colab\"/></a>"
      ]
    },
    {
      "cell_type": "code",
      "execution_count": null,
      "metadata": {
        "id": "WInx_ONUwk9x"
      },
      "outputs": [],
      "source": [
        "# Karaciğer Kanseri (HCC) Nüks Riskini Hesaplama Projesi\n",
        "# Veri Ön İşleme ve Gradient Boosting Modeli ile Tahmin\n",
        "\n",
        "# Gerekli Kütüphaneler\n",
        "import pandas as pd\n",
        "import numpy as np\n",
        "from sklearn.impute import KNNImputer\n",
        "from sklearn.ensemble import GradientBoostingClassifier\n",
        "from sklearn.model_selection import train_test_split\n",
        "from sklearn.metrics import accuracy_score, classification_report\n",
        "from datetime import datetime\n",
        "\n",
        "# Veri Yükleme\n",
        "veriler = pd.read_csv(\"tum_veriler.csv\")\n",
        "\n",
        "# Kullanılacak parametrelerin seçimi\n",
        "parametreler = [\n",
        "    'HASTA No', 'Ad Soyad', 'Cinsiyet \\nErkek: 1\\nKadın:2', 'Doğum Tarihi\\nGün Ay Yıl\\n00.00.0000 ',\n",
        "    'Boy \\ncm', 'Kilo\\nkg', 'Albumin (gr/dL)', 'INR\\nDüz.', 'Kreatinin', 'total Bil.',\n",
        "    'Plt', 'AST', 'ALT', 'ALP', 'GGT', 'Hb', 'AFP', 'MR/CT de \\nAna Tümör Boyutu',\n",
        "    'MR/CT de \\nTümör Sayısı', 'Ameliyat Tarihi\\nGün Ay Yıl\\n00.00.0000 ',\n",
        "    'Nüks Durum\\n0:0\\nVar:1', 'Nüks Tarihi\\nGün Ay Yıl\\n00.00.0000 \\n'\n",
        "]\n",
        "\n",
        "veriler = veriler[parametreler]\n",
        "\n",
        "# Veri Temizleme\n",
        "sayisal_sutunlar = ['Boy \\ncm', 'Kilo\\nkg', 'Albumin (gr/dL)', 'INR\\nDüz.', 'Kreatinin',\n",
        "                   'total Bil.', 'Plt', 'AST', 'ALT', 'ALP', 'GGT', 'Hb', 'AFP',\n",
        "                   'MR/CT de \\nAna Tümör Boyutu', 'MR/CT de \\nTümör Sayısı']\n",
        "\n",
        "for sutun in sayisal_sutunlar:\n",
        "    veriler[sutun] = (\n",
        "        veriler[sutun].astype(str)\n",
        "        .str.replace(\"[<->]\", \"0\", regex=True)\n",
        "        .str.replace(\",\", \".\", regex=True)\n",
        "        .str.extract('(\\d+\\.?\\d*)')[0]\n",
        "        .astype(float)\n",
        "    )\n",
        "\n",
        "# Cinsiyet verisini numerik hale getirme\n",
        "veriler['Cinsiyet'] = veriler['Cinsiyet \\nErkek: 1\\nKadın:2'].replace({'Erkek': 1, 'Kadın': 2}).astype(float)\n",
        "veriler['Erkek'] = (veriler['Cinsiyet'] == 1).astype(int)\n",
        "veriler['Kadın'] = (veriler['Cinsiyet'] == 2).astype(int)\n",
        "veriler.drop('Cinsiyet \\nErkek: 1\\nKadın:2', axis=1, inplace=True)\n",
        "\n",
        "# Tarihleri datetime formatına çevirme\n",
        "for tarih_sutunu in ['Doğum Tarihi\\nGün Ay Yıl\\n00.00.0000 ', 'Ameliyat Tarihi\\nGün Ay Yıl\\n00.00.0000 ',\n",
        "                     'Nüks Tarihi\\nGün Ay Yıl\\n00.00.0000 \\n']:\n",
        "    veriler[tarih_sutunu] = pd.to_datetime(veriler[tarih_sutunu], errors='coerce', dayfirst=True)\n",
        "\n",
        "# Eksik verilerin KNN ile doldurulması\n",
        "imputer = KNNImputer(n_neighbors=5)\n",
        "veriler[sayisal_sutunlar] = imputer.fit_transform(veriler[sayisal_sutunlar])\n",
        "\n",
        "# Yaş hesaplama\n",
        "bugun = datetime.today()\n",
        "veriler['Yas'] = veriler['Doğum Tarihi\\nGün Ay Yıl\\n00.00.0000 '].apply(lambda x: bugun.year - x.year if pd.notnull(x) else np.nan)\n",
        "\n",
        "# Hedef sütunu belirleme ve gereksiz sütunları kaldırma\n",
        "hedef = 'Nüks Durum\\n0:0\\nVar:1'\n",
        "veriler_final = veriler.drop(['Doğum Tarihi\\nGün Ay Yıl\\n00.00.0000 ',\n",
        "                              'Ameliyat Tarihi\\nGün Ay Yıl\\n00.00.0000 ',\n",
        "                              'Nüks Tarihi\\nGün Ay Yıl\\n00.00.0000 \\n', 'Ad Soyad'], axis=1)\n",
        "\n",
        "# Eğitim ve Test setlerine bölme\n",
        "X = veriler_final.drop(hedef, axis=1)\n",
        "y = veriler_final[hedef]\n",
        "X_train, X_test, y_train, y_test = train_test_split(X, y, test_size=0.2, random_state=42)\n",
        "\n",
        "# Gradient Boosting Modeli oluşturma ve eğitme\n",
        "model = GradientBoostingClassifier()\n",
        "model.fit(X_train, y_train)\n",
        "\n",
        "# Tahmin ve Değerlendirme\n",
        "y_pred = model.predict(X_test)\n",
        "y_pred_proba = model.predict_proba(X_test)[:, 1]\n",
        "\n",
        "accuracy = accuracy_score(y_test, y_pred)\n",
        "print(f\"Model doğruluğu (Accuracy): {accuracy:.2f}\")\n",
        "print(classification_report(y_test, y_pred))"
      ]
    },
    {
      "cell_type": "code",
      "source": [
        "# Karaciğer Kanseri (HCC) Nüks Riskini Hesaplama Projesi\n",
        "# 30 Kişilik Örnek Dataset Üzerinde Gradient Boosting Modeli\n",
        "\n",
        "# Gerekli Kütüphaneler\n",
        "import pandas as pd\n",
        "from sklearn.ensemble import GradientBoostingClassifier\n",
        "from sklearn.model_selection import train_test_split\n",
        "from sklearn.metrics import accuracy_score, classification_report\n",
        "\n",
        "# Veri Yükleme\n",
        "veriler = pd.read_csv(\"karaciger_dataset_30_kisi_corrected.csv\")\n",
        "\n",
        "# Gereksiz sütunları çıkarma\n",
        "veriler.drop(['HASTA No', 'Ad Soyad', 'Doğum Tarihi\\nGün Ay Yıl\\n00.00.0000 ',\n",
        "              'Ameliyat Tarihi\\nGün Ay Yıl\\n00.00.0000 ', 'Nüks Tarihi\\nGün Ay Yıl\\n00.00.0000 \\n'],\n",
        "             axis=1, inplace=True)\n",
        "\n",
        "# Bağımlı ve bağımsız değişkenleri ayırma\n",
        "X = veriler.drop('Nüks Durum\\n0:0\\nVar:1', axis=1)\n",
        "y = veriler['Nüks Durum\\n0:0\\nVar:1']\n",
        "\n",
        "# Eğitim ve Test setlerine bölme\n",
        "X_train, X_test, y_train, y_test = train_test_split(X, y, test_size=0.2, random_state=42)\n",
        "\n",
        "# Gradient Boosting Modeli oluşturma ve eğitme\n",
        "model = GradientBoostingClassifier()\n",
        "model.fit(X_train, y_train)\n",
        "\n",
        "# Tahmin ve Değerlendirme\n",
        "y_pred = model.predict(X_test)\n",
        "y_pred_proba = model.predict_proba(X_test)[:, 1]\n",
        "\n",
        "accuracy = accuracy_score(y_test, y_pred)\n",
        "print(f\"Model doğruluğu (Accuracy): {accuracy:.2f}\")\n",
        "print(classification_report(y_test, y_pred))"
      ],
      "metadata": {
        "colab": {
          "base_uri": "https://localhost:8080/"
        },
        "id": "UYdglVZsyISJ",
        "outputId": "493c35e5-ae7e-4f0f-a023-380ea569ded8"
      },
      "execution_count": null,
      "outputs": [
        {
          "output_type": "stream",
          "name": "stdout",
          "text": [
            "Model doğruluğu (Accuracy): 0.00\n",
            "              precision    recall  f1-score   support\n",
            "\n",
            "           0       0.00      0.00      0.00       5.0\n",
            "           1       0.00      0.00      0.00       1.0\n",
            "\n",
            "    accuracy                           0.00       6.0\n",
            "   macro avg       0.00      0.00      0.00       6.0\n",
            "weighted avg       0.00      0.00      0.00       6.0\n",
            "\n"
          ]
        }
      ]
    },
    {
      "cell_type": "code",
      "source": [],
      "metadata": {
        "id": "hceQb0L1yMQ1"
      },
      "execution_count": null,
      "outputs": []
    }
  ]
}